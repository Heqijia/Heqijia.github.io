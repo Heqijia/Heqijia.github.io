{
 "cells": [
  {
   "cell_type": "code",
   "execution_count": 4,
   "metadata": {},
   "outputs": [
    {
     "name": "stdout",
     "output_type": "stream",
     "text": [
      "baobao.jpg 已经是JPEG格式，跳过转换\n",
      "chess_main.png 转换为JPEG格式完成\n",
      "chess_menu.png 转换为JPEG格式完成\n",
      "default.png 转换为JPEG格式完成\n",
      "image-20240609223323375.png 转换为JPEG格式完成\n",
      "image-20240609230748812.png 转换为JPEG格式完成\n",
      "image-20240609232109761.png 转换为JPEG格式完成\n",
      "image-20240609232144891.png 转换为JPEG格式完成\n",
      "image-20240610000836782.png 转换为JPEG格式完成\n",
      "image1170x530cropped.jpg 已经是JPEG格式，跳过转换\n",
      "my_photo.png 转换为JPEG格式完成\n",
      "pig.png 转换为JPEG格式完成\n",
      "vibrant-coral-reef.jpg 已经是JPEG格式，跳过转换\n",
      "微信图片_20240610205447.png 转换为JPEG格式完成\n",
      "微信图片_20240610211511.png 转换为JPEG格式完成\n"
     ]
    }
   ],
   "source": [
    "from PIL import Image\n",
    "import os\n",
    "\n",
    "# 设置文件夹路径\n",
    "folder_path = 'pic/'\n",
    "\n",
    "# 获取文件夹中的所有图像文件\n",
    "image_files = [f for f in os.listdir(folder_path) if os.path.isfile(os.path.join(folder_path, f))]\n",
    "\n",
    "# 遍历图像文件\n",
    "for image_file in image_files:\n",
    "    # 获取图像文件的格式\n",
    "    img_format = image_file.split('.')[-1].lower()\n",
    "    \n",
    "    # 检查图像格式并进行相应的处理\n",
    "    if img_format != 'jpg' and img_format != 'jpeg':\n",
    "        # 打开图像\n",
    "        img_path = os.path.join(folder_path, image_file)\n",
    "        img = Image.open(img_path)\n",
    "        \n",
    "        # 转换图像格式为JPEG\n",
    "        img = img.convert('RGB')\n",
    "        \n",
    "        # 保存为JPEG格式\n",
    "        img.save(os.path.splitext(img_path)[0] + '.jpg', quality=30)  # quality的值通常在0到100之间，值越低表示压缩程度越高\n",
    "        print(f\"{image_file} 转换为JPEG格式完成\")\n",
    "    else:\n",
    "        print(f\"{image_file} 已经是JPEG格式，跳过转换\")\n"
   ]
  },
  {
   "cell_type": "code",
   "execution_count": null,
   "metadata": {},
   "outputs": [],
   "source": []
  }
 ],
 "metadata": {
  "kernelspec": {
   "display_name": "base",
   "language": "python",
   "name": "python3"
  },
  "language_info": {
   "codemirror_mode": {
    "name": "ipython",
    "version": 3
   },
   "file_extension": ".py",
   "mimetype": "text/x-python",
   "name": "python",
   "nbconvert_exporter": "python",
   "pygments_lexer": "ipython3",
   "version": "3.10.9"
  }
 },
 "nbformat": 4,
 "nbformat_minor": 2
}
